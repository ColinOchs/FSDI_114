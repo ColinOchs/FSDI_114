{
 "cells": [
  {
   "cell_type": "markdown",
   "id": "019e15c0",
   "metadata": {},
   "source": [
    " # Problem 1\n",
    "### Given 2 strings (string_a and string_b) let's check whether or not they are anagrams of each other given the following criteria:\n",
    "\n",
    "> Two strings are only anagrams of each other if all conditions below are met:\n",
    "> * They must be exactly the same length.\n",
    "> * They must use exactly the same characters (no more, no less).\n",
    "\n",
    "```\n",
    "Example(s): cars and scar, heart and earth, etc.\n",
    "```\n"
   ]
  },
  {
   "cell_type": "code",
   "execution_count": 1,
   "id": "7eb76deb",
   "metadata": {
    "scrolled": true
   },
   "outputs": [
    {
     "name": "stdout",
     "output_type": "stream",
     "text": [
      "h\n",
      "e\n",
      "l\n",
      "l\n",
      "o\n",
      " \n",
      "w\n",
      "o\n",
      "r\n",
      "l\n",
      "d\n"
     ]
    }
   ],
   "source": [
    "for letter in 'hello world': \n",
    "    print (letter)"
   ]
  },
  {
   "cell_type": "code",
   "execution_count": 7,
   "id": "8b771f31",
   "metadata": {},
   "outputs": [
    {
     "name": "stdout",
     "output_type": "stream",
     "text": [
      "True\n",
      "True\n",
      "False\n"
     ]
    }
   ],
   "source": [
    "def checkgram(st1, st2):\n",
    "    listst1 = list(st1)\n",
    "    listst1.sort()\n",
    "    listst2 = list(st2)\n",
    "    listst2.sort()\n",
    "    return (listst1 == listst2)\n",
    "\n",
    "print (checkgram('heart', 'earth'))\n",
    "print (checkgram('scar', 'cars'))\n",
    "print (checkgram('block', 'clock'))"
   ]
  },
  {
   "cell_type": "code",
   "execution_count": null,
   "id": "8563cd8d",
   "metadata": {},
   "outputs": [],
   "source": []
  }
 ],
 "metadata": {
  "kernelspec": {
   "display_name": "Python 3 (ipykernel)",
   "language": "python",
   "name": "python3"
  },
  "language_info": {
   "codemirror_mode": {
    "name": "ipython",
    "version": 3
   },
   "file_extension": ".py",
   "mimetype": "text/x-python",
   "name": "python",
   "nbconvert_exporter": "python",
   "pygments_lexer": "ipython3",
   "version": "3.8.10"
  }
 },
 "nbformat": 4,
 "nbformat_minor": 5
}
